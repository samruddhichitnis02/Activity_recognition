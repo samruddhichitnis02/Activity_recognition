{
 "cells": [
  {
   "cell_type": "code",
   "execution_count": 1,
   "metadata": {},
   "outputs": [],
   "source": [
    "from sklearn.neighbors import KNeighborsClassifier\n",
    "from sklearn.model_selection import train_test_split\n",
    "from sklearn.metrics import accuracy_score, confusion_matrix\n",
    "from sklearn.preprocessing import StandardScaler\n",
    "import pandas as pd\n",
    "import warnings\n",
    "warnings.filterwarnings('ignore')"
   ]
  },
  {
   "cell_type": "markdown",
   "metadata": {},
   "source": [
    "# Accuraccy without Scaling the Features"
   ]
  },
  {
   "cell_type": "code",
   "execution_count": 2,
   "metadata": {},
   "outputs": [],
   "source": [
    "data = pd.read_csv('/home/admin1/Downloads/machine_learning/Task_Classification/train.txt')"
   ]
  },
  {
   "cell_type": "code",
   "execution_count": 3,
   "metadata": {},
   "outputs": [
    {
     "data": {
      "text/html": [
       "<div>\n",
       "<style scoped>\n",
       "    .dataframe tbody tr th:only-of-type {\n",
       "        vertical-align: middle;\n",
       "    }\n",
       "\n",
       "    .dataframe tbody tr th {\n",
       "        vertical-align: top;\n",
       "    }\n",
       "\n",
       "    .dataframe thead th {\n",
       "        text-align: right;\n",
       "    }\n",
       "</style>\n",
       "<table border=\"1\" class=\"dataframe\">\n",
       "  <thead>\n",
       "    <tr style=\"text-align: right;\">\n",
       "      <th></th>\n",
       "      <th>0</th>\n",
       "      <th>0.29548</th>\n",
       "      <th>0.97377</th>\n",
       "      <th>0.088944</th>\n",
       "      <th>1</th>\n",
       "      <th>-61</th>\n",
       "      <th>5.6527</th>\n",
       "      <th>923.75</th>\n",
       "      <th>1.1</th>\n",
       "    </tr>\n",
       "  </thead>\n",
       "  <tbody>\n",
       "    <tr>\n",
       "      <th>0</th>\n",
       "      <td>0.50</td>\n",
       "      <td>0.29548</td>\n",
       "      <td>0.97377</td>\n",
       "      <td>0.088944</td>\n",
       "      <td>1</td>\n",
       "      <td>-60.0</td>\n",
       "      <td>1.4297</td>\n",
       "      <td>921.75</td>\n",
       "      <td>1</td>\n",
       "    </tr>\n",
       "    <tr>\n",
       "      <th>1</th>\n",
       "      <td>1.25</td>\n",
       "      <td>0.17823</td>\n",
       "      <td>1.05420</td>\n",
       "      <td>0.031928</td>\n",
       "      <td>1</td>\n",
       "      <td>-61.0</td>\n",
       "      <td>6.1221</td>\n",
       "      <td>920.25</td>\n",
       "      <td>1</td>\n",
       "    </tr>\n",
       "    <tr>\n",
       "      <th>2</th>\n",
       "      <td>1.50</td>\n",
       "      <td>0.17823</td>\n",
       "      <td>1.05420</td>\n",
       "      <td>0.031928</td>\n",
       "      <td>1</td>\n",
       "      <td>-62.0</td>\n",
       "      <td>5.6128</td>\n",
       "      <td>924.25</td>\n",
       "      <td>1</td>\n",
       "    </tr>\n",
       "    <tr>\n",
       "      <th>3</th>\n",
       "      <td>1.75</td>\n",
       "      <td>0.17823</td>\n",
       "      <td>1.05420</td>\n",
       "      <td>0.031928</td>\n",
       "      <td>1</td>\n",
       "      <td>-60.5</td>\n",
       "      <td>2.3976</td>\n",
       "      <td>920.75</td>\n",
       "      <td>1</td>\n",
       "    </tr>\n",
       "    <tr>\n",
       "      <th>4</th>\n",
       "      <td>3.25</td>\n",
       "      <td>0.22513</td>\n",
       "      <td>0.99674</td>\n",
       "      <td>0.054735</td>\n",
       "      <td>3</td>\n",
       "      <td>-64.0</td>\n",
       "      <td>5.3597</td>\n",
       "      <td>922.75</td>\n",
       "      <td>1</td>\n",
       "    </tr>\n",
       "  </tbody>\n",
       "</table>\n",
       "</div>"
      ],
      "text/plain": [
       "      0  0.29548  0.97377  0.088944  1   -61  5.6527  923.75  1.1\n",
       "0  0.50  0.29548  0.97377  0.088944  1 -60.0  1.4297  921.75    1\n",
       "1  1.25  0.17823  1.05420  0.031928  1 -61.0  6.1221  920.25    1\n",
       "2  1.50  0.17823  1.05420  0.031928  1 -62.0  5.6128  924.25    1\n",
       "3  1.75  0.17823  1.05420  0.031928  1 -60.5  2.3976  920.75    1\n",
       "4  3.25  0.22513  0.99674  0.054735  3 -64.0  5.3597  922.75    1"
      ]
     },
     "execution_count": 3,
     "metadata": {},
     "output_type": "execute_result"
    }
   ],
   "source": [
    "data.head()"
   ]
  },
  {
   "cell_type": "code",
   "execution_count": 4,
   "metadata": {},
   "outputs": [],
   "source": [
    "data.columns = ['Time(secs)', 'Acceleration reading in G(frontal axis)',\n",
    "                          'Acceleration reading in G (vertical axis)',\n",
    "                          'Acceleration reading in G(lateral axis)',\n",
    "                          'Id of antenna reading sensor',\n",
    "                          'Received signal strength indicator (RSSI)',\n",
    "                          'Phase','Frequency', 'Label of activity']"
   ]
  },
  {
   "cell_type": "code",
   "execution_count": 5,
   "metadata": {},
   "outputs": [],
   "source": [
    "x = data.iloc[:,0:-1].values\n",
    "y = data.iloc[:,-1:].values"
   ]
  },
  {
   "cell_type": "code",
   "execution_count": 6,
   "metadata": {},
   "outputs": [],
   "source": [
    "x_train, x_test, y_train, y_test = train_test_split(x, y, test_size = 0.2, random_state = 0)"
   ]
  },
  {
   "cell_type": "code",
   "execution_count": 7,
   "metadata": {},
   "outputs": [],
   "source": [
    "classifier = KNeighborsClassifier(n_neighbors = 5, metric = 'minkowski', p = 2)\n",
    "classifier.fit(x_train, y_train)\n",
    "y_pred = classifier.predict(x_test)"
   ]
  },
  {
   "cell_type": "code",
   "execution_count": 8,
   "metadata": {},
   "outputs": [
    {
     "data": {
      "text/plain": [
       "0.9029740743952137"
      ]
     },
     "execution_count": 8,
     "metadata": {},
     "output_type": "execute_result"
    }
   ],
   "source": [
    "score = accuracy_score(y_test, y_pred)\n",
    "score"
   ]
  },
  {
   "cell_type": "code",
   "execution_count": 9,
   "metadata": {},
   "outputs": [
    {
     "data": {
      "text/plain": [
       "array([[1780,   68,  430,   14],\n",
       "       [ 111,  554,   92,    7],\n",
       "       [ 206,   48, 7850,   17],\n",
       "       [  33,   13,   80,  230]])"
      ]
     },
     "execution_count": 9,
     "metadata": {},
     "output_type": "execute_result"
    }
   ],
   "source": [
    "cm = confusion_matrix(y_test, y_pred)\n",
    "cm"
   ]
  },
  {
   "cell_type": "code",
   "execution_count": null,
   "metadata": {},
   "outputs": [],
   "source": []
  },
  {
   "cell_type": "markdown",
   "metadata": {},
   "source": [
    "# Scaling the Features and checking the Accuracy"
   ]
  },
  {
   "cell_type": "code",
   "execution_count": 10,
   "metadata": {},
   "outputs": [],
   "source": [
    "dataset = pd.read_csv('/home/admin1/Downloads/machine_learning/Task_Classification/train.txt')"
   ]
  },
  {
   "cell_type": "code",
   "execution_count": 11,
   "metadata": {},
   "outputs": [
    {
     "data": {
      "text/html": [
       "<div>\n",
       "<style scoped>\n",
       "    .dataframe tbody tr th:only-of-type {\n",
       "        vertical-align: middle;\n",
       "    }\n",
       "\n",
       "    .dataframe tbody tr th {\n",
       "        vertical-align: top;\n",
       "    }\n",
       "\n",
       "    .dataframe thead th {\n",
       "        text-align: right;\n",
       "    }\n",
       "</style>\n",
       "<table border=\"1\" class=\"dataframe\">\n",
       "  <thead>\n",
       "    <tr style=\"text-align: right;\">\n",
       "      <th></th>\n",
       "      <th>0</th>\n",
       "      <th>0.29548</th>\n",
       "      <th>0.97377</th>\n",
       "      <th>0.088944</th>\n",
       "      <th>1</th>\n",
       "      <th>-61</th>\n",
       "      <th>5.6527</th>\n",
       "      <th>923.75</th>\n",
       "      <th>1.1</th>\n",
       "    </tr>\n",
       "  </thead>\n",
       "  <tbody>\n",
       "    <tr>\n",
       "      <th>0</th>\n",
       "      <td>0.50</td>\n",
       "      <td>0.29548</td>\n",
       "      <td>0.97377</td>\n",
       "      <td>0.088944</td>\n",
       "      <td>1</td>\n",
       "      <td>-60.0</td>\n",
       "      <td>1.4297</td>\n",
       "      <td>921.75</td>\n",
       "      <td>1</td>\n",
       "    </tr>\n",
       "    <tr>\n",
       "      <th>1</th>\n",
       "      <td>1.25</td>\n",
       "      <td>0.17823</td>\n",
       "      <td>1.05420</td>\n",
       "      <td>0.031928</td>\n",
       "      <td>1</td>\n",
       "      <td>-61.0</td>\n",
       "      <td>6.1221</td>\n",
       "      <td>920.25</td>\n",
       "      <td>1</td>\n",
       "    </tr>\n",
       "    <tr>\n",
       "      <th>2</th>\n",
       "      <td>1.50</td>\n",
       "      <td>0.17823</td>\n",
       "      <td>1.05420</td>\n",
       "      <td>0.031928</td>\n",
       "      <td>1</td>\n",
       "      <td>-62.0</td>\n",
       "      <td>5.6128</td>\n",
       "      <td>924.25</td>\n",
       "      <td>1</td>\n",
       "    </tr>\n",
       "    <tr>\n",
       "      <th>3</th>\n",
       "      <td>1.75</td>\n",
       "      <td>0.17823</td>\n",
       "      <td>1.05420</td>\n",
       "      <td>0.031928</td>\n",
       "      <td>1</td>\n",
       "      <td>-60.5</td>\n",
       "      <td>2.3976</td>\n",
       "      <td>920.75</td>\n",
       "      <td>1</td>\n",
       "    </tr>\n",
       "    <tr>\n",
       "      <th>4</th>\n",
       "      <td>3.25</td>\n",
       "      <td>0.22513</td>\n",
       "      <td>0.99674</td>\n",
       "      <td>0.054735</td>\n",
       "      <td>3</td>\n",
       "      <td>-64.0</td>\n",
       "      <td>5.3597</td>\n",
       "      <td>922.75</td>\n",
       "      <td>1</td>\n",
       "    </tr>\n",
       "  </tbody>\n",
       "</table>\n",
       "</div>"
      ],
      "text/plain": [
       "      0  0.29548  0.97377  0.088944  1   -61  5.6527  923.75  1.1\n",
       "0  0.50  0.29548  0.97377  0.088944  1 -60.0  1.4297  921.75    1\n",
       "1  1.25  0.17823  1.05420  0.031928  1 -61.0  6.1221  920.25    1\n",
       "2  1.50  0.17823  1.05420  0.031928  1 -62.0  5.6128  924.25    1\n",
       "3  1.75  0.17823  1.05420  0.031928  1 -60.5  2.3976  920.75    1\n",
       "4  3.25  0.22513  0.99674  0.054735  3 -64.0  5.3597  922.75    1"
      ]
     },
     "execution_count": 11,
     "metadata": {},
     "output_type": "execute_result"
    }
   ],
   "source": [
    "dataset.head()"
   ]
  },
  {
   "cell_type": "code",
   "execution_count": 12,
   "metadata": {},
   "outputs": [],
   "source": [
    "dataset.columns = ['Time(secs)', 'Acceleration reading in G(frontal axis)',\n",
    "                          'Acceleration reading in G (vertical axis)',\n",
    "                          'Acceleration reading in G(lateral axis)',\n",
    "                          'Id of antenna reading sensor',\n",
    "                          'Received signal strength indicator (RSSI)',\n",
    "                          'Phase','Frequency', 'Label of activity']"
   ]
  },
  {
   "cell_type": "code",
   "execution_count": 13,
   "metadata": {},
   "outputs": [],
   "source": [
    "x_set = dataset.iloc[:, 0:-1].values\n",
    "y_set = dataset.iloc[:, -1:].values"
   ]
  },
  {
   "cell_type": "code",
   "execution_count": 14,
   "metadata": {},
   "outputs": [],
   "source": [
    "standard_x = StandardScaler()\n",
    "x_set = standard_x.fit_transform(x_set)"
   ]
  },
  {
   "cell_type": "code",
   "execution_count": 15,
   "metadata": {},
   "outputs": [],
   "source": [
    "x_set_train, x_set_test, y_set_train, y_set_test = train_test_split(x_set, y_set, test_size = 0.2, random_state = 0)"
   ]
  },
  {
   "cell_type": "code",
   "execution_count": 16,
   "metadata": {},
   "outputs": [],
   "source": [
    "kn = KNeighborsClassifier(n_neighbors = 5, metric = 'minkowski', p = 2)\n",
    "kn.fit(x_set_train, y_set_train)\n",
    "y_predictions = kn.predict(x_set_test)"
   ]
  },
  {
   "cell_type": "code",
   "execution_count": 17,
   "metadata": {},
   "outputs": [
    {
     "data": {
      "text/plain": [
       "0.9823983352120004"
      ]
     },
     "execution_count": 17,
     "metadata": {},
     "output_type": "execute_result"
    }
   ],
   "source": [
    "score = accuracy_score(y_set_test, y_predictions)\n",
    "score"
   ]
  },
  {
   "cell_type": "code",
   "execution_count": 18,
   "metadata": {
    "scrolled": false
   },
   "outputs": [
    {
     "data": {
      "text/plain": [
       "array([[2204,   27,   38,   23],\n",
       "       [  15,  744,    0,    5],\n",
       "       [   2,    3, 8116,    0],\n",
       "       [  70,   19,    1,  266]])"
      ]
     },
     "execution_count": 18,
     "metadata": {},
     "output_type": "execute_result"
    }
   ],
   "source": [
    "matrix = confusion_matrix(y_set_test, y_predictions)\n",
    "matrix"
   ]
  },
  {
   "cell_type": "code",
   "execution_count": null,
   "metadata": {},
   "outputs": [],
   "source": []
  },
  {
   "cell_type": "markdown",
   "metadata": {},
   "source": [
    "# Checking The accuracy on unseen data with Scaled Features"
   ]
  },
  {
   "cell_type": "code",
   "execution_count": 19,
   "metadata": {},
   "outputs": [],
   "source": [
    "import pickle\n",
    "objects = {'scalar':standard_x, 'model':kn}\n",
    "pickle.dump(objects, open('scaled_knn.pkl','wb'))"
   ]
  },
  {
   "cell_type": "code",
   "execution_count": 20,
   "metadata": {},
   "outputs": [],
   "source": [
    "testset = pd.read_csv('/home/admin1/Downloads/machine_learning/Task_Classification/test.txt')"
   ]
  },
  {
   "cell_type": "code",
   "execution_count": 21,
   "metadata": {},
   "outputs": [
    {
     "data": {
      "text/html": [
       "<div>\n",
       "<style scoped>\n",
       "    .dataframe tbody tr th:only-of-type {\n",
       "        vertical-align: middle;\n",
       "    }\n",
       "\n",
       "    .dataframe tbody tr th {\n",
       "        vertical-align: top;\n",
       "    }\n",
       "\n",
       "    .dataframe thead th {\n",
       "        text-align: right;\n",
       "    }\n",
       "</style>\n",
       "<table border=\"1\" class=\"dataframe\">\n",
       "  <thead>\n",
       "    <tr style=\"text-align: right;\">\n",
       "      <th></th>\n",
       "      <th>0</th>\n",
       "      <th>0.24858</th>\n",
       "      <th>1.0542</th>\n",
       "      <th>-0.24174</th>\n",
       "      <th>1</th>\n",
       "      <th>-45.5</th>\n",
       "      <th>4.4286</th>\n",
       "      <th>920.25</th>\n",
       "      <th>4</th>\n",
       "    </tr>\n",
       "  </thead>\n",
       "  <tbody>\n",
       "    <tr>\n",
       "      <th>0</th>\n",
       "      <td>0.025</td>\n",
       "      <td>0.342380</td>\n",
       "      <td>1.18050</td>\n",
       "      <td>-0.116310</td>\n",
       "      <td>1</td>\n",
       "      <td>-45.0</td>\n",
       "      <td>4.6234</td>\n",
       "      <td>921.75</td>\n",
       "      <td>4</td>\n",
       "    </tr>\n",
       "    <tr>\n",
       "      <th>1</th>\n",
       "      <td>0.250</td>\n",
       "      <td>0.060972</td>\n",
       "      <td>1.07710</td>\n",
       "      <td>-0.036490</td>\n",
       "      <td>1</td>\n",
       "      <td>-44.5</td>\n",
       "      <td>5.8445</td>\n",
       "      <td>921.75</td>\n",
       "      <td>4</td>\n",
       "    </tr>\n",
       "    <tr>\n",
       "      <th>2</th>\n",
       "      <td>0.300</td>\n",
       "      <td>0.131320</td>\n",
       "      <td>1.05420</td>\n",
       "      <td>-0.082102</td>\n",
       "      <td>1</td>\n",
       "      <td>-49.5</td>\n",
       "      <td>6.2249</td>\n",
       "      <td>923.25</td>\n",
       "      <td>4</td>\n",
       "    </tr>\n",
       "    <tr>\n",
       "      <th>3</th>\n",
       "      <td>1.500</td>\n",
       "      <td>0.471360</td>\n",
       "      <td>0.90487</td>\n",
       "      <td>0.020525</td>\n",
       "      <td>2</td>\n",
       "      <td>-56.0</td>\n",
       "      <td>1.2533</td>\n",
       "      <td>921.25</td>\n",
       "      <td>4</td>\n",
       "    </tr>\n",
       "    <tr>\n",
       "      <th>4</th>\n",
       "      <td>2.250</td>\n",
       "      <td>0.471360</td>\n",
       "      <td>0.90487</td>\n",
       "      <td>0.020525</td>\n",
       "      <td>2</td>\n",
       "      <td>-57.5</td>\n",
       "      <td>5.8920</td>\n",
       "      <td>924.25</td>\n",
       "      <td>4</td>\n",
       "    </tr>\n",
       "  </tbody>\n",
       "</table>\n",
       "</div>"
      ],
      "text/plain": [
       "       0   0.24858   1.0542  -0.24174  1  -45.5  4.4286  920.25  4\n",
       "0  0.025  0.342380  1.18050 -0.116310  1  -45.0  4.6234  921.75  4\n",
       "1  0.250  0.060972  1.07710 -0.036490  1  -44.5  5.8445  921.75  4\n",
       "2  0.300  0.131320  1.05420 -0.082102  1  -49.5  6.2249  923.25  4\n",
       "3  1.500  0.471360  0.90487  0.020525  2  -56.0  1.2533  921.25  4\n",
       "4  2.250  0.471360  0.90487  0.020525  2  -57.5  5.8920  924.25  4"
      ]
     },
     "execution_count": 21,
     "metadata": {},
     "output_type": "execute_result"
    }
   ],
   "source": [
    "testset.head()"
   ]
  },
  {
   "cell_type": "code",
   "execution_count": 22,
   "metadata": {},
   "outputs": [],
   "source": [
    "testset.columns = ['Time(secs)', 'Acceleration reading in G(frontal axis)',\n",
    "                          'Acceleration reading in G (vertical axis)',\n",
    "                          'Acceleration reading in G(lateral axis)',\n",
    "                          'Id of antenna reading sensor',\n",
    "                          'Received signal strength indicator (RSSI)',\n",
    "                          'Phase','Frequency', 'Label of activity']"
   ]
  },
  {
   "cell_type": "code",
   "execution_count": 23,
   "metadata": {},
   "outputs": [
    {
     "data": {
      "text/html": [
       "<div>\n",
       "<style scoped>\n",
       "    .dataframe tbody tr th:only-of-type {\n",
       "        vertical-align: middle;\n",
       "    }\n",
       "\n",
       "    .dataframe tbody tr th {\n",
       "        vertical-align: top;\n",
       "    }\n",
       "\n",
       "    .dataframe thead th {\n",
       "        text-align: right;\n",
       "    }\n",
       "</style>\n",
       "<table border=\"1\" class=\"dataframe\">\n",
       "  <thead>\n",
       "    <tr style=\"text-align: right;\">\n",
       "      <th></th>\n",
       "      <th>Time(secs)</th>\n",
       "      <th>Acceleration reading in G(frontal axis)</th>\n",
       "      <th>Acceleration reading in G (vertical axis)</th>\n",
       "      <th>Acceleration reading in G(lateral axis)</th>\n",
       "      <th>Id of antenna reading sensor</th>\n",
       "      <th>Received signal strength indicator (RSSI)</th>\n",
       "      <th>Phase</th>\n",
       "      <th>Frequency</th>\n",
       "      <th>Label of activity</th>\n",
       "    </tr>\n",
       "  </thead>\n",
       "  <tbody>\n",
       "    <tr>\n",
       "      <th>0</th>\n",
       "      <td>0.025</td>\n",
       "      <td>0.342380</td>\n",
       "      <td>1.18050</td>\n",
       "      <td>-0.116310</td>\n",
       "      <td>1</td>\n",
       "      <td>-45.0</td>\n",
       "      <td>4.6234</td>\n",
       "      <td>921.75</td>\n",
       "      <td>4</td>\n",
       "    </tr>\n",
       "    <tr>\n",
       "      <th>1</th>\n",
       "      <td>0.250</td>\n",
       "      <td>0.060972</td>\n",
       "      <td>1.07710</td>\n",
       "      <td>-0.036490</td>\n",
       "      <td>1</td>\n",
       "      <td>-44.5</td>\n",
       "      <td>5.8445</td>\n",
       "      <td>921.75</td>\n",
       "      <td>4</td>\n",
       "    </tr>\n",
       "    <tr>\n",
       "      <th>2</th>\n",
       "      <td>0.300</td>\n",
       "      <td>0.131320</td>\n",
       "      <td>1.05420</td>\n",
       "      <td>-0.082102</td>\n",
       "      <td>1</td>\n",
       "      <td>-49.5</td>\n",
       "      <td>6.2249</td>\n",
       "      <td>923.25</td>\n",
       "      <td>4</td>\n",
       "    </tr>\n",
       "    <tr>\n",
       "      <th>3</th>\n",
       "      <td>1.500</td>\n",
       "      <td>0.471360</td>\n",
       "      <td>0.90487</td>\n",
       "      <td>0.020525</td>\n",
       "      <td>2</td>\n",
       "      <td>-56.0</td>\n",
       "      <td>1.2533</td>\n",
       "      <td>921.25</td>\n",
       "      <td>4</td>\n",
       "    </tr>\n",
       "    <tr>\n",
       "      <th>4</th>\n",
       "      <td>2.250</td>\n",
       "      <td>0.471360</td>\n",
       "      <td>0.90487</td>\n",
       "      <td>0.020525</td>\n",
       "      <td>2</td>\n",
       "      <td>-57.5</td>\n",
       "      <td>5.8920</td>\n",
       "      <td>924.25</td>\n",
       "      <td>4</td>\n",
       "    </tr>\n",
       "  </tbody>\n",
       "</table>\n",
       "</div>"
      ],
      "text/plain": [
       "   Time(secs)  Acceleration reading in G(frontal axis)  \\\n",
       "0       0.025                                 0.342380   \n",
       "1       0.250                                 0.060972   \n",
       "2       0.300                                 0.131320   \n",
       "3       1.500                                 0.471360   \n",
       "4       2.250                                 0.471360   \n",
       "\n",
       "   Acceleration reading in G (vertical axis)  \\\n",
       "0                                    1.18050   \n",
       "1                                    1.07710   \n",
       "2                                    1.05420   \n",
       "3                                    0.90487   \n",
       "4                                    0.90487   \n",
       "\n",
       "   Acceleration reading in G(lateral axis)  Id of antenna reading sensor  \\\n",
       "0                                -0.116310                             1   \n",
       "1                                -0.036490                             1   \n",
       "2                                -0.082102                             1   \n",
       "3                                 0.020525                             2   \n",
       "4                                 0.020525                             2   \n",
       "\n",
       "   Received signal strength indicator (RSSI)   Phase  Frequency  \\\n",
       "0                                      -45.0  4.6234     921.75   \n",
       "1                                      -44.5  5.8445     921.75   \n",
       "2                                      -49.5  6.2249     923.25   \n",
       "3                                      -56.0  1.2533     921.25   \n",
       "4                                      -57.5  5.8920     924.25   \n",
       "\n",
       "   Label of activity  \n",
       "0                  4  \n",
       "1                  4  \n",
       "2                  4  \n",
       "3                  4  \n",
       "4                  4  "
      ]
     },
     "execution_count": 23,
     "metadata": {},
     "output_type": "execute_result"
    }
   ],
   "source": [
    "testset.head()"
   ]
  },
  {
   "cell_type": "code",
   "execution_count": 24,
   "metadata": {},
   "outputs": [],
   "source": [
    "xtest = testset.iloc[:,0:-1].values\n",
    "ytest = testset.iloc[:,-1:].values"
   ]
  },
  {
   "cell_type": "code",
   "execution_count": 25,
   "metadata": {},
   "outputs": [],
   "source": [
    "objects = pickle.load(open('scaled_knn.pkl','rb'))"
   ]
  },
  {
   "cell_type": "code",
   "execution_count": 26,
   "metadata": {},
   "outputs": [
    {
     "data": {
      "text/plain": [
       "{'scalar': StandardScaler(copy=True, with_mean=True, with_std=True),\n",
       " 'model': KNeighborsClassifier(algorithm='auto', leaf_size=30, metric='minkowski',\n",
       "                      metric_params=None, n_jobs=None, n_neighbors=5, p=2,\n",
       "                      weights='uniform')}"
      ]
     },
     "execution_count": 26,
     "metadata": {},
     "output_type": "execute_result"
    }
   ],
   "source": [
    "objects"
   ]
  },
  {
   "cell_type": "code",
   "execution_count": 27,
   "metadata": {},
   "outputs": [],
   "source": [
    "scalar = objects['scalar']\n",
    "model = objects['model']"
   ]
  },
  {
   "cell_type": "code",
   "execution_count": 28,
   "metadata": {},
   "outputs": [],
   "source": [
    "xtest = scalar.transform(xtest)"
   ]
  },
  {
   "cell_type": "code",
   "execution_count": 29,
   "metadata": {},
   "outputs": [],
   "source": [
    "prediction = model.predict(xtest)"
   ]
  },
  {
   "cell_type": "code",
   "execution_count": 30,
   "metadata": {},
   "outputs": [
    {
     "data": {
      "text/plain": [
       "0.9347191204260437"
      ]
     },
     "execution_count": 30,
     "metadata": {},
     "output_type": "execute_result"
    }
   ],
   "source": [
    "score = accuracy_score(ytest, prediction)\n",
    "score"
   ]
  },
  {
   "cell_type": "code",
   "execution_count": null,
   "metadata": {},
   "outputs": [],
   "source": []
  },
  {
   "cell_type": "markdown",
   "metadata": {},
   "source": [
    "# Checking The accuracy on unseen data without Scaled Features"
   ]
  },
  {
   "cell_type": "code",
   "execution_count": 31,
   "metadata": {},
   "outputs": [],
   "source": [
    "data_set = pd.read_csv('/home/admin1/Downloads/machine_learning/Task_Classification/test.txt')"
   ]
  },
  {
   "cell_type": "code",
   "execution_count": 32,
   "metadata": {},
   "outputs": [
    {
     "data": {
      "text/html": [
       "<div>\n",
       "<style scoped>\n",
       "    .dataframe tbody tr th:only-of-type {\n",
       "        vertical-align: middle;\n",
       "    }\n",
       "\n",
       "    .dataframe tbody tr th {\n",
       "        vertical-align: top;\n",
       "    }\n",
       "\n",
       "    .dataframe thead th {\n",
       "        text-align: right;\n",
       "    }\n",
       "</style>\n",
       "<table border=\"1\" class=\"dataframe\">\n",
       "  <thead>\n",
       "    <tr style=\"text-align: right;\">\n",
       "      <th></th>\n",
       "      <th>0</th>\n",
       "      <th>0.24858</th>\n",
       "      <th>1.0542</th>\n",
       "      <th>-0.24174</th>\n",
       "      <th>1</th>\n",
       "      <th>-45.5</th>\n",
       "      <th>4.4286</th>\n",
       "      <th>920.25</th>\n",
       "      <th>4</th>\n",
       "    </tr>\n",
       "  </thead>\n",
       "  <tbody>\n",
       "    <tr>\n",
       "      <th>0</th>\n",
       "      <td>0.025</td>\n",
       "      <td>0.342380</td>\n",
       "      <td>1.18050</td>\n",
       "      <td>-0.116310</td>\n",
       "      <td>1</td>\n",
       "      <td>-45.0</td>\n",
       "      <td>4.6234</td>\n",
       "      <td>921.75</td>\n",
       "      <td>4</td>\n",
       "    </tr>\n",
       "    <tr>\n",
       "      <th>1</th>\n",
       "      <td>0.250</td>\n",
       "      <td>0.060972</td>\n",
       "      <td>1.07710</td>\n",
       "      <td>-0.036490</td>\n",
       "      <td>1</td>\n",
       "      <td>-44.5</td>\n",
       "      <td>5.8445</td>\n",
       "      <td>921.75</td>\n",
       "      <td>4</td>\n",
       "    </tr>\n",
       "    <tr>\n",
       "      <th>2</th>\n",
       "      <td>0.300</td>\n",
       "      <td>0.131320</td>\n",
       "      <td>1.05420</td>\n",
       "      <td>-0.082102</td>\n",
       "      <td>1</td>\n",
       "      <td>-49.5</td>\n",
       "      <td>6.2249</td>\n",
       "      <td>923.25</td>\n",
       "      <td>4</td>\n",
       "    </tr>\n",
       "    <tr>\n",
       "      <th>3</th>\n",
       "      <td>1.500</td>\n",
       "      <td>0.471360</td>\n",
       "      <td>0.90487</td>\n",
       "      <td>0.020525</td>\n",
       "      <td>2</td>\n",
       "      <td>-56.0</td>\n",
       "      <td>1.2533</td>\n",
       "      <td>921.25</td>\n",
       "      <td>4</td>\n",
       "    </tr>\n",
       "    <tr>\n",
       "      <th>4</th>\n",
       "      <td>2.250</td>\n",
       "      <td>0.471360</td>\n",
       "      <td>0.90487</td>\n",
       "      <td>0.020525</td>\n",
       "      <td>2</td>\n",
       "      <td>-57.5</td>\n",
       "      <td>5.8920</td>\n",
       "      <td>924.25</td>\n",
       "      <td>4</td>\n",
       "    </tr>\n",
       "  </tbody>\n",
       "</table>\n",
       "</div>"
      ],
      "text/plain": [
       "       0   0.24858   1.0542  -0.24174  1  -45.5  4.4286  920.25  4\n",
       "0  0.025  0.342380  1.18050 -0.116310  1  -45.0  4.6234  921.75  4\n",
       "1  0.250  0.060972  1.07710 -0.036490  1  -44.5  5.8445  921.75  4\n",
       "2  0.300  0.131320  1.05420 -0.082102  1  -49.5  6.2249  923.25  4\n",
       "3  1.500  0.471360  0.90487  0.020525  2  -56.0  1.2533  921.25  4\n",
       "4  2.250  0.471360  0.90487  0.020525  2  -57.5  5.8920  924.25  4"
      ]
     },
     "execution_count": 32,
     "metadata": {},
     "output_type": "execute_result"
    }
   ],
   "source": [
    "data_set.head()"
   ]
  },
  {
   "cell_type": "code",
   "execution_count": 33,
   "metadata": {},
   "outputs": [],
   "source": [
    "data_set.columns = ['Time(secs)', 'Acceleration reading in G(frontal axis)',\n",
    "                          'Acceleration reading in G (vertical axis)',\n",
    "                          'Acceleration reading in G(lateral axis)',\n",
    "                          'Id of antenna reading sensor',\n",
    "                          'Received signal strength indicator (RSSI)',\n",
    "                          'Phase','Frequency', 'Label of activity']"
   ]
  },
  {
   "cell_type": "code",
   "execution_count": 34,
   "metadata": {},
   "outputs": [
    {
     "data": {
      "text/html": [
       "<div>\n",
       "<style scoped>\n",
       "    .dataframe tbody tr th:only-of-type {\n",
       "        vertical-align: middle;\n",
       "    }\n",
       "\n",
       "    .dataframe tbody tr th {\n",
       "        vertical-align: top;\n",
       "    }\n",
       "\n",
       "    .dataframe thead th {\n",
       "        text-align: right;\n",
       "    }\n",
       "</style>\n",
       "<table border=\"1\" class=\"dataframe\">\n",
       "  <thead>\n",
       "    <tr style=\"text-align: right;\">\n",
       "      <th></th>\n",
       "      <th>Time(secs)</th>\n",
       "      <th>Acceleration reading in G(frontal axis)</th>\n",
       "      <th>Acceleration reading in G (vertical axis)</th>\n",
       "      <th>Acceleration reading in G(lateral axis)</th>\n",
       "      <th>Id of antenna reading sensor</th>\n",
       "      <th>Received signal strength indicator (RSSI)</th>\n",
       "      <th>Phase</th>\n",
       "      <th>Frequency</th>\n",
       "      <th>Label of activity</th>\n",
       "    </tr>\n",
       "  </thead>\n",
       "  <tbody>\n",
       "    <tr>\n",
       "      <th>0</th>\n",
       "      <td>0.025</td>\n",
       "      <td>0.342380</td>\n",
       "      <td>1.18050</td>\n",
       "      <td>-0.116310</td>\n",
       "      <td>1</td>\n",
       "      <td>-45.0</td>\n",
       "      <td>4.6234</td>\n",
       "      <td>921.75</td>\n",
       "      <td>4</td>\n",
       "    </tr>\n",
       "    <tr>\n",
       "      <th>1</th>\n",
       "      <td>0.250</td>\n",
       "      <td>0.060972</td>\n",
       "      <td>1.07710</td>\n",
       "      <td>-0.036490</td>\n",
       "      <td>1</td>\n",
       "      <td>-44.5</td>\n",
       "      <td>5.8445</td>\n",
       "      <td>921.75</td>\n",
       "      <td>4</td>\n",
       "    </tr>\n",
       "    <tr>\n",
       "      <th>2</th>\n",
       "      <td>0.300</td>\n",
       "      <td>0.131320</td>\n",
       "      <td>1.05420</td>\n",
       "      <td>-0.082102</td>\n",
       "      <td>1</td>\n",
       "      <td>-49.5</td>\n",
       "      <td>6.2249</td>\n",
       "      <td>923.25</td>\n",
       "      <td>4</td>\n",
       "    </tr>\n",
       "    <tr>\n",
       "      <th>3</th>\n",
       "      <td>1.500</td>\n",
       "      <td>0.471360</td>\n",
       "      <td>0.90487</td>\n",
       "      <td>0.020525</td>\n",
       "      <td>2</td>\n",
       "      <td>-56.0</td>\n",
       "      <td>1.2533</td>\n",
       "      <td>921.25</td>\n",
       "      <td>4</td>\n",
       "    </tr>\n",
       "    <tr>\n",
       "      <th>4</th>\n",
       "      <td>2.250</td>\n",
       "      <td>0.471360</td>\n",
       "      <td>0.90487</td>\n",
       "      <td>0.020525</td>\n",
       "      <td>2</td>\n",
       "      <td>-57.5</td>\n",
       "      <td>5.8920</td>\n",
       "      <td>924.25</td>\n",
       "      <td>4</td>\n",
       "    </tr>\n",
       "  </tbody>\n",
       "</table>\n",
       "</div>"
      ],
      "text/plain": [
       "   Time(secs)  Acceleration reading in G(frontal axis)  \\\n",
       "0       0.025                                 0.342380   \n",
       "1       0.250                                 0.060972   \n",
       "2       0.300                                 0.131320   \n",
       "3       1.500                                 0.471360   \n",
       "4       2.250                                 0.471360   \n",
       "\n",
       "   Acceleration reading in G (vertical axis)  \\\n",
       "0                                    1.18050   \n",
       "1                                    1.07710   \n",
       "2                                    1.05420   \n",
       "3                                    0.90487   \n",
       "4                                    0.90487   \n",
       "\n",
       "   Acceleration reading in G(lateral axis)  Id of antenna reading sensor  \\\n",
       "0                                -0.116310                             1   \n",
       "1                                -0.036490                             1   \n",
       "2                                -0.082102                             1   \n",
       "3                                 0.020525                             2   \n",
       "4                                 0.020525                             2   \n",
       "\n",
       "   Received signal strength indicator (RSSI)   Phase  Frequency  \\\n",
       "0                                      -45.0  4.6234     921.75   \n",
       "1                                      -44.5  5.8445     921.75   \n",
       "2                                      -49.5  6.2249     923.25   \n",
       "3                                      -56.0  1.2533     921.25   \n",
       "4                                      -57.5  5.8920     924.25   \n",
       "\n",
       "   Label of activity  \n",
       "0                  4  \n",
       "1                  4  \n",
       "2                  4  \n",
       "3                  4  \n",
       "4                  4  "
      ]
     },
     "execution_count": 34,
     "metadata": {},
     "output_type": "execute_result"
    }
   ],
   "source": [
    "data_set.head()"
   ]
  },
  {
   "cell_type": "code",
   "execution_count": 35,
   "metadata": {},
   "outputs": [],
   "source": [
    "pickle.dump(classifier, open('knn.pkl','wb'))"
   ]
  },
  {
   "cell_type": "code",
   "execution_count": 36,
   "metadata": {},
   "outputs": [],
   "source": [
    "objects = pickle.load(open('knn.pkl','rb'))"
   ]
  },
  {
   "cell_type": "code",
   "execution_count": 37,
   "metadata": {},
   "outputs": [
    {
     "data": {
      "text/plain": [
       "KNeighborsClassifier(algorithm='auto', leaf_size=30, metric='minkowski',\n",
       "                     metric_params=None, n_jobs=None, n_neighbors=5, p=2,\n",
       "                     weights='uniform')"
      ]
     },
     "execution_count": 37,
     "metadata": {},
     "output_type": "execute_result"
    }
   ],
   "source": [
    "objects"
   ]
  },
  {
   "cell_type": "code",
   "execution_count": 38,
   "metadata": {},
   "outputs": [],
   "source": [
    "x1 = data_set.iloc[:,0:-1].values\n",
    "y1 = data_set.iloc[:,-1:].values"
   ]
  },
  {
   "cell_type": "code",
   "execution_count": 39,
   "metadata": {},
   "outputs": [
    {
     "data": {
      "text/plain": [
       "(17463, 9)"
      ]
     },
     "execution_count": 39,
     "metadata": {},
     "output_type": "execute_result"
    }
   ],
   "source": [
    "data_set.shape"
   ]
  },
  {
   "cell_type": "code",
   "execution_count": 40,
   "metadata": {},
   "outputs": [],
   "source": [
    "unscaled_predictions = objects.predict(x1)"
   ]
  },
  {
   "cell_type": "code",
   "execution_count": 41,
   "metadata": {},
   "outputs": [
    {
     "data": {
      "text/plain": [
       "0.6568745347305732"
      ]
     },
     "execution_count": 41,
     "metadata": {},
     "output_type": "execute_result"
    }
   ],
   "source": [
    "score = accuracy_score(y1, unscaled_predictions)\n",
    "score"
   ]
  },
  {
   "cell_type": "code",
   "execution_count": null,
   "metadata": {},
   "outputs": [],
   "source": []
  }
 ],
 "metadata": {
  "kernelspec": {
   "display_name": "Python 3",
   "language": "python",
   "name": "python3"
  },
  "language_info": {
   "codemirror_mode": {
    "name": "ipython",
    "version": 3
   },
   "file_extension": ".py",
   "mimetype": "text/x-python",
   "name": "python",
   "nbconvert_exporter": "python",
   "pygments_lexer": "ipython3",
   "version": "3.7.4"
  }
 },
 "nbformat": 4,
 "nbformat_minor": 2
}
