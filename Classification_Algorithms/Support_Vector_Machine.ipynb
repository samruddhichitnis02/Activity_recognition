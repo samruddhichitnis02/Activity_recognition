{
 "cells": [
  {
   "cell_type": "code",
   "execution_count": 1,
   "metadata": {},
   "outputs": [],
   "source": [
    "from sklearn.svm import SVC\n",
    "from sklearn.metrics import accuracy_score, confusion_matrix\n",
    "from sklearn.preprocessing import StandardScaler\n",
    "from sklearn.model_selection import train_test_split\n",
    "import pandas as pd\n",
    "import warnings\n",
    "warnings.filterwarnings('ignore')"
   ]
  },
  {
   "cell_type": "code",
   "execution_count": 4,
   "metadata": {},
   "outputs": [],
   "source": [
    "dataset = pd.read_csv('/home/admin1/Downloads/machine_learning/Task_Classification/train.txt')"
   ]
  },
  {
   "cell_type": "code",
   "execution_count": 5,
   "metadata": {},
   "outputs": [
    {
     "data": {
      "text/html": [
       "<div>\n",
       "<style scoped>\n",
       "    .dataframe tbody tr th:only-of-type {\n",
       "        vertical-align: middle;\n",
       "    }\n",
       "\n",
       "    .dataframe tbody tr th {\n",
       "        vertical-align: top;\n",
       "    }\n",
       "\n",
       "    .dataframe thead th {\n",
       "        text-align: right;\n",
       "    }\n",
       "</style>\n",
       "<table border=\"1\" class=\"dataframe\">\n",
       "  <thead>\n",
       "    <tr style=\"text-align: right;\">\n",
       "      <th></th>\n",
       "      <th>0</th>\n",
       "      <th>0.29548</th>\n",
       "      <th>0.97377</th>\n",
       "      <th>0.088944</th>\n",
       "      <th>1</th>\n",
       "      <th>-61</th>\n",
       "      <th>5.6527</th>\n",
       "      <th>923.75</th>\n",
       "      <th>1.1</th>\n",
       "    </tr>\n",
       "  </thead>\n",
       "  <tbody>\n",
       "    <tr>\n",
       "      <th>0</th>\n",
       "      <td>0.50</td>\n",
       "      <td>0.29548</td>\n",
       "      <td>0.97377</td>\n",
       "      <td>0.088944</td>\n",
       "      <td>1</td>\n",
       "      <td>-60.0</td>\n",
       "      <td>1.4297</td>\n",
       "      <td>921.75</td>\n",
       "      <td>1</td>\n",
       "    </tr>\n",
       "    <tr>\n",
       "      <th>1</th>\n",
       "      <td>1.25</td>\n",
       "      <td>0.17823</td>\n",
       "      <td>1.05420</td>\n",
       "      <td>0.031928</td>\n",
       "      <td>1</td>\n",
       "      <td>-61.0</td>\n",
       "      <td>6.1221</td>\n",
       "      <td>920.25</td>\n",
       "      <td>1</td>\n",
       "    </tr>\n",
       "    <tr>\n",
       "      <th>2</th>\n",
       "      <td>1.50</td>\n",
       "      <td>0.17823</td>\n",
       "      <td>1.05420</td>\n",
       "      <td>0.031928</td>\n",
       "      <td>1</td>\n",
       "      <td>-62.0</td>\n",
       "      <td>5.6128</td>\n",
       "      <td>924.25</td>\n",
       "      <td>1</td>\n",
       "    </tr>\n",
       "    <tr>\n",
       "      <th>3</th>\n",
       "      <td>1.75</td>\n",
       "      <td>0.17823</td>\n",
       "      <td>1.05420</td>\n",
       "      <td>0.031928</td>\n",
       "      <td>1</td>\n",
       "      <td>-60.5</td>\n",
       "      <td>2.3976</td>\n",
       "      <td>920.75</td>\n",
       "      <td>1</td>\n",
       "    </tr>\n",
       "    <tr>\n",
       "      <th>4</th>\n",
       "      <td>3.25</td>\n",
       "      <td>0.22513</td>\n",
       "      <td>0.99674</td>\n",
       "      <td>0.054735</td>\n",
       "      <td>3</td>\n",
       "      <td>-64.0</td>\n",
       "      <td>5.3597</td>\n",
       "      <td>922.75</td>\n",
       "      <td>1</td>\n",
       "    </tr>\n",
       "  </tbody>\n",
       "</table>\n",
       "</div>"
      ],
      "text/plain": [
       "      0  0.29548  0.97377  0.088944  1   -61  5.6527  923.75  1.1\n",
       "0  0.50  0.29548  0.97377  0.088944  1 -60.0  1.4297  921.75    1\n",
       "1  1.25  0.17823  1.05420  0.031928  1 -61.0  6.1221  920.25    1\n",
       "2  1.50  0.17823  1.05420  0.031928  1 -62.0  5.6128  924.25    1\n",
       "3  1.75  0.17823  1.05420  0.031928  1 -60.5  2.3976  920.75    1\n",
       "4  3.25  0.22513  0.99674  0.054735  3 -64.0  5.3597  922.75    1"
      ]
     },
     "execution_count": 5,
     "metadata": {},
     "output_type": "execute_result"
    }
   ],
   "source": [
    "dataset.head()"
   ]
  },
  {
   "cell_type": "code",
   "execution_count": 6,
   "metadata": {},
   "outputs": [],
   "source": [
    "dataset.columns = ['Time(secs)', 'Acceleration reading in G(frontal axis)',\n",
    "                          'Acceleration reading in G (vertical axis)',\n",
    "                          'Acceleration reading in G(lateral axis)',\n",
    "                          'Id of antenna reading sensor',\n",
    "                          'Received signal strength indicator (RSSI)',\n",
    "                          'Phase','Frequency', 'Label of activity']"
   ]
  },
  {
   "cell_type": "code",
   "execution_count": 7,
   "metadata": {},
   "outputs": [
    {
     "data": {
      "text/html": [
       "<div>\n",
       "<style scoped>\n",
       "    .dataframe tbody tr th:only-of-type {\n",
       "        vertical-align: middle;\n",
       "    }\n",
       "\n",
       "    .dataframe tbody tr th {\n",
       "        vertical-align: top;\n",
       "    }\n",
       "\n",
       "    .dataframe thead th {\n",
       "        text-align: right;\n",
       "    }\n",
       "</style>\n",
       "<table border=\"1\" class=\"dataframe\">\n",
       "  <thead>\n",
       "    <tr style=\"text-align: right;\">\n",
       "      <th></th>\n",
       "      <th>Time(secs)</th>\n",
       "      <th>Acceleration reading in G(frontal axis)</th>\n",
       "      <th>Acceleration reading in G (vertical axis)</th>\n",
       "      <th>Acceleration reading in G(lateral axis)</th>\n",
       "      <th>Id of antenna reading sensor</th>\n",
       "      <th>Received signal strength indicator (RSSI)</th>\n",
       "      <th>Phase</th>\n",
       "      <th>Frequency</th>\n",
       "      <th>Label of activity</th>\n",
       "    </tr>\n",
       "  </thead>\n",
       "  <tbody>\n",
       "    <tr>\n",
       "      <th>0</th>\n",
       "      <td>0.50</td>\n",
       "      <td>0.29548</td>\n",
       "      <td>0.97377</td>\n",
       "      <td>0.088944</td>\n",
       "      <td>1</td>\n",
       "      <td>-60.0</td>\n",
       "      <td>1.4297</td>\n",
       "      <td>921.75</td>\n",
       "      <td>1</td>\n",
       "    </tr>\n",
       "    <tr>\n",
       "      <th>1</th>\n",
       "      <td>1.25</td>\n",
       "      <td>0.17823</td>\n",
       "      <td>1.05420</td>\n",
       "      <td>0.031928</td>\n",
       "      <td>1</td>\n",
       "      <td>-61.0</td>\n",
       "      <td>6.1221</td>\n",
       "      <td>920.25</td>\n",
       "      <td>1</td>\n",
       "    </tr>\n",
       "    <tr>\n",
       "      <th>2</th>\n",
       "      <td>1.50</td>\n",
       "      <td>0.17823</td>\n",
       "      <td>1.05420</td>\n",
       "      <td>0.031928</td>\n",
       "      <td>1</td>\n",
       "      <td>-62.0</td>\n",
       "      <td>5.6128</td>\n",
       "      <td>924.25</td>\n",
       "      <td>1</td>\n",
       "    </tr>\n",
       "    <tr>\n",
       "      <th>3</th>\n",
       "      <td>1.75</td>\n",
       "      <td>0.17823</td>\n",
       "      <td>1.05420</td>\n",
       "      <td>0.031928</td>\n",
       "      <td>1</td>\n",
       "      <td>-60.5</td>\n",
       "      <td>2.3976</td>\n",
       "      <td>920.75</td>\n",
       "      <td>1</td>\n",
       "    </tr>\n",
       "    <tr>\n",
       "      <th>4</th>\n",
       "      <td>3.25</td>\n",
       "      <td>0.22513</td>\n",
       "      <td>0.99674</td>\n",
       "      <td>0.054735</td>\n",
       "      <td>3</td>\n",
       "      <td>-64.0</td>\n",
       "      <td>5.3597</td>\n",
       "      <td>922.75</td>\n",
       "      <td>1</td>\n",
       "    </tr>\n",
       "  </tbody>\n",
       "</table>\n",
       "</div>"
      ],
      "text/plain": [
       "   Time(secs)  Acceleration reading in G(frontal axis)  \\\n",
       "0        0.50                                  0.29548   \n",
       "1        1.25                                  0.17823   \n",
       "2        1.50                                  0.17823   \n",
       "3        1.75                                  0.17823   \n",
       "4        3.25                                  0.22513   \n",
       "\n",
       "   Acceleration reading in G (vertical axis)  \\\n",
       "0                                    0.97377   \n",
       "1                                    1.05420   \n",
       "2                                    1.05420   \n",
       "3                                    1.05420   \n",
       "4                                    0.99674   \n",
       "\n",
       "   Acceleration reading in G(lateral axis)  Id of antenna reading sensor  \\\n",
       "0                                 0.088944                             1   \n",
       "1                                 0.031928                             1   \n",
       "2                                 0.031928                             1   \n",
       "3                                 0.031928                             1   \n",
       "4                                 0.054735                             3   \n",
       "\n",
       "   Received signal strength indicator (RSSI)   Phase  Frequency  \\\n",
       "0                                      -60.0  1.4297     921.75   \n",
       "1                                      -61.0  6.1221     920.25   \n",
       "2                                      -62.0  5.6128     924.25   \n",
       "3                                      -60.5  2.3976     920.75   \n",
       "4                                      -64.0  5.3597     922.75   \n",
       "\n",
       "   Label of activity  \n",
       "0                  1  \n",
       "1                  1  \n",
       "2                  1  \n",
       "3                  1  \n",
       "4                  1  "
      ]
     },
     "execution_count": 7,
     "metadata": {},
     "output_type": "execute_result"
    }
   ],
   "source": [
    "dataset.head()"
   ]
  },
  {
   "cell_type": "code",
   "execution_count": 8,
   "metadata": {},
   "outputs": [
    {
     "data": {
      "text/plain": [
       "(57663, 9)"
      ]
     },
     "execution_count": 8,
     "metadata": {},
     "output_type": "execute_result"
    }
   ],
   "source": [
    "dataset.shape"
   ]
  },
  {
   "cell_type": "code",
   "execution_count": 9,
   "metadata": {},
   "outputs": [],
   "source": [
    "x_set = dataset.iloc[:, 0:-1].values\n",
    "y_set = dataset.iloc[:, -1:].values"
   ]
  },
  {
   "cell_type": "code",
   "execution_count": 10,
   "metadata": {},
   "outputs": [],
   "source": [
    "standard_x = StandardScaler()\n",
    "x_set = standard_x.fit_transform(x_set)"
   ]
  },
  {
   "cell_type": "code",
   "execution_count": 11,
   "metadata": {},
   "outputs": [],
   "source": [
    "x_set_train, x_set_test, y_set_train, y_set_test = train_test_split(x_set, y_set, test_size = 0.2, random_state = 0)"
   ]
  },
  {
   "cell_type": "code",
   "execution_count": 12,
   "metadata": {},
   "outputs": [],
   "source": [
    "svc = SVC(kernel = 'linear')\n",
    "svc.fit(x_set_train, y_set_train)\n",
    "y_predictions = svc.predict(x_set_test)"
   ]
  },
  {
   "cell_type": "code",
   "execution_count": 13,
   "metadata": {},
   "outputs": [
    {
     "data": {
      "text/plain": [
       "0.9136391225179918"
      ]
     },
     "execution_count": 13,
     "metadata": {},
     "output_type": "execute_result"
    }
   ],
   "source": [
    "score = accuracy_score(y_set_test, y_predictions)\n",
    "score"
   ]
  },
  {
   "cell_type": "code",
   "execution_count": 14,
   "metadata": {},
   "outputs": [
    {
     "data": {
      "text/plain": [
       "array([[2265,    0,   25,    2],\n",
       "       [ 760,    0,    0,    4],\n",
       "       [   4,    0, 8117,    0],\n",
       "       [ 201,    0,    0,  155]])"
      ]
     },
     "execution_count": 14,
     "metadata": {},
     "output_type": "execute_result"
    }
   ],
   "source": [
    "matrix = confusion_matrix(y_set_test, y_predictions)\n",
    "matrix"
   ]
  },
  {
   "cell_type": "code",
   "execution_count": null,
   "metadata": {},
   "outputs": [],
   "source": []
  }
 ],
 "metadata": {
  "kernelspec": {
   "display_name": "Python 3",
   "language": "python",
   "name": "python3"
  },
  "language_info": {
   "codemirror_mode": {
    "name": "ipython",
    "version": 3
   },
   "file_extension": ".py",
   "mimetype": "text/x-python",
   "name": "python",
   "nbconvert_exporter": "python",
   "pygments_lexer": "ipython3",
   "version": "3.7.4"
  }
 },
 "nbformat": 4,
 "nbformat_minor": 2
}
